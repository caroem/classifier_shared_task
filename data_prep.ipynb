{
 "cells": [
  {
   "cell_type": "markdown",
   "metadata": {},
   "source": [
    "## Change format"
   ]
  },
  {
   "cell_type": "code",
   "execution_count": 21,
   "metadata": {
    "collapsed": false
   },
   "outputs": [],
   "source": [
    "def json_to_csv(path, output_name):\n",
    "    output_csv = open('output/' + output_name, 'a')\n",
    "    input_csv = open(path, 'r')\n",
    "    input_csv = [item.strip() for item in input_csv]\n",
    "    \n",
    "    prompt = ''\n",
    "    translated_prompt = ''\n",
    "    for line in input_csv:\n",
    "        if '\"prompt\":' in line:\n",
    "            prompt = line\n",
    "            for element in ['\"prompt\":', '\"', ',']:\n",
    "                prompt = prompt.replace(element, '')\n",
    "        elif '\"translated_prompt\":' in line or '\"response\":' in line:\n",
    "            pass\n",
    "        elif line[:1] == '\"':\n",
    "            output_line = line\n",
    "            for element in ['\"', ',']:\n",
    "                output_line = output_line.replace(element, '')\n",
    "            output_csv.write(output_line + \",\" + prompt + '\\n')\n",
    "    input_csv.close()\n",
    "    output_csv.close()"
   ]
  },
  {
   "cell_type": "code",
   "execution_count": 22,
   "metadata": {
    "collapsed": true
   },
   "outputs": [],
   "source": [
    "json_to_csv('data/dev/01.json', 'dev_01.csv')"
   ]
  },
  {
   "cell_type": "code",
   "execution_count": 23,
   "metadata": {
    "collapsed": true
   },
   "outputs": [],
   "source": [
    "json_to_csv('data/train/01.json', 'train_01.csv')"
   ]
  },
  {
   "cell_type": "code",
   "execution_count": 24,
   "metadata": {
    "collapsed": true
   },
   "outputs": [],
   "source": [
    "# complete data\n",
    "json_to_csv('data/train/json.json', 'complete_rg.csv')"
   ]
  },
  {
   "cell_type": "code",
   "execution_count": 42,
   "metadata": {
    "collapsed": false
   },
   "outputs": [],
   "source": [
    "import csv\n",
    "import json\n",
    "def csv_to_json(path, output_name):\n",
    "    input_csv = open(path, 'r') \n",
    "    reader = csv.DictReader(input_csv)\n",
    "    rows = list(reader)\n",
    "\n",
    "    output_json = open('output/' + output_name, 'a')\n",
    "    output_json.write(json.dumps(rows, output_json, sort_keys=False, indent=4, separators=(',',':'), ensure_ascii=False))"
   ]
  },
  {
   "cell_type": "code",
   "execution_count": 44,
   "metadata": {
    "collapsed": false
   },
   "outputs": [],
   "source": [
    "csv_to_json('data/dev/st_train_complete.csv', 'st_train_complete.json')"
   ]
  },
  {
   "cell_type": "code",
   "execution_count": 45,
   "metadata": {
    "collapsed": true
   },
   "outputs": [],
   "source": [
    "csv_to_json('data/dev/st_test_complete.csv', 'st_test_complete.json')"
   ]
  },
  {
   "cell_type": "code",
   "execution_count": null,
   "metadata": {
    "collapsed": true
   },
   "outputs": [],
   "source": []
  }
 ],
 "metadata": {
  "kernelspec": {
   "display_name": "Python 3",
   "language": "python",
   "name": "python3"
  },
  "language_info": {
   "codemirror_mode": {
    "name": "ipython",
    "version": 3
   },
   "file_extension": ".py",
   "mimetype": "text/x-python",
   "name": "python",
   "nbconvert_exporter": "python",
   "pygments_lexer": "ipython3",
   "version": "3.5.2"
  }
 },
 "nbformat": 4,
 "nbformat_minor": 2
}
